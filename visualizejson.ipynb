{
 "cells": [
  {
   "cell_type": "code",
   "execution_count": 1,
   "metadata": {},
   "outputs": [],
   "source": [
    "import os,json\n",
    "\n",
    "pathtojson=os.path.join(\".\")\n",
    "json_files=[pos_json for pos_json in os.listdir(pathtojson) if \"2018\" in pos_json]"
   ]
  },
  {
   "cell_type": "code",
   "execution_count": 2,
   "metadata": {},
   "outputs": [
    {
     "name": "stdout",
     "output_type": "stream",
     "text": [
      "structured-2018-07-29-proleague2\n",
      "structured-2018-08-19-champs\n",
      "structured-2018-04-08-proleague1\n",
      "structured-2018-04-19-relegation\n",
      "structured-2018-06-17-anaheim\n",
      "structured-2018-03-11-atlanta\n",
      "structured-2018-04-22-seattle\n",
      "structured-2018-04-01-birmingham\n",
      "structured-2018-01-14-neworleans\n"
     ]
    },
    {
     "data": {
      "text/plain": [
       "['./structured-2018-07-29-proleague2',\n",
       " './structured-2018-08-19-champs',\n",
       " './structured-2018-04-08-proleague1',\n",
       " './structured-2018-04-19-relegation',\n",
       " './structured-2018-06-17-anaheim',\n",
       " './structured-2018-03-11-atlanta',\n",
       " './structured-2018-04-22-seattle',\n",
       " './structured-2018-04-01-birmingham',\n",
       " './structured-2018-01-14-neworleans']"
      ]
     },
     "execution_count": 2,
     "metadata": {},
     "output_type": "execute_result"
    }
   ],
   "source": [
    "new_json=[]\n",
    "for i in json_files:\n",
    "    print(i)\n",
    "    new_json.append(os.path.join(\".\",i))\n",
    "    \n",
    "print(new_json)"
   ]
  },
  {
   "cell_type": "code",
   "execution_count": 3,
   "metadata": {},
   "outputs": [],
   "source": [
    "path_to_maps = '../week6/cwl-data/maps/ww2/'\n",
    "\n",
    "MAP_IMAGES = {\n",
    "    'Aachen': 'aachen.png',\n",
    "    'Ardennes Forest': 'ardennes_forest.png',\n",
    "    'Flak Tower': 'flaktower.png',\n",
    "    'Gibraltar': 'gibraltar.png',\n",
    "    'London Docks': 'london_docks.png',\n",
    "    'Sainte Marie du Mont': 'sainte_marie_du_mont.png' ,\n",
    "    'USS Texas': 'uss_texas.png',\n",
    "    'Valkyrie': 'valkyrie.png'\n",
    "}"
   ]
  },
  {
   "cell_type": "code",
   "execution_count": 4,
   "metadata": {},
   "outputs": [],
   "source": [
    "def generate_events(events):\n",
    "    death_pos, spawn_pos = {'x': [], 'y': []}, {'x': [], 'y': []}\n",
    "    for evt in events:\n",
    "        if evt['type'] == 'spawn':\n",
    "            spawn_pos['x'].append( evt['data']['pos']['x'] )\n",
    "            spawn_pos['y'].append( evt['data']['pos']['y'] )\n",
    "        if evt['type'] == 'death':\n",
    "            death_pos['x'].append( evt['data']['pos']['x'] )\n",
    "            death_pos['y'].append( evt['data']['pos']['y'] )\n",
    "    return death_pos, spawn_pos"
   ]
  },
  {
   "cell_type": "code",
   "execution_count": 5,
   "metadata": {},
   "outputs": [],
   "source": [
    "def plotting(dictionary):\n",
    "        death_pos, spawn_pos = {'x': [], 'y': []}, {'x': [], 'y': []}\n",
    "        events = dictionary['events']\n",
    "        death_pos, spawn_pos = generate_events(events)\n",
    "\n",
    "        # create figure\n",
    "        fig=Figure()\n",
    "        FigureCanvas(fig)\n",
    "        ax=fig.subplots(1,1)\n",
    "        \n",
    "        fig.set_figheight(15)\n",
    "        fig.set_figwidth(15)\n",
    "        \n",
    "         # get map image\n",
    "        img = path_to_maps + MAP_IMAGES[dictionary['map']]\n",
    "        map_image = plt.imread(img)\n",
    " \n",
    "        ax.imshow(map_image)\n",
    "        ax.set_facecolor((210/255.0, 210/255.0, 210/255.0))\n",
    "        # plot spawns\n",
    "        ax.scatter(spawn_pos['x'], spawn_pos['y'], color='blue')\n",
    "        # plot death events\n",
    "        ax.scatter(death_pos['x'], death_pos['y'], color='red')\n",
    "        # set title\n",
    "        ax.set_title('{} ({})'.format(dictionary['map'], dictionary['mode']))\n",
    "        \n",
    "        #save plots as PNGs and close plot\n",
    "        mypath=os.path.join(\".\",\"PNGS\")   \n",
    "        myfile=os.path.splitext(file)[0] + \".png\"\n",
    "        fig.savefig(os.path.join(mypath,myfile))\n",
    "        fig.clf() #clear figure\n",
    "        plt.close('all')\n",
    "  \n",
    "    "
   ]
  },
  {
   "cell_type": "code",
   "execution_count": 6,
   "metadata": {},
   "outputs": [],
   "source": [
    "import matplotlib.pyplot as plt\n",
    "from matplotlib.backends.backend_agg import FigureCanvasAgg as FigureCanvas\n",
    "from matplotlib.figure import Figure"
   ]
  },
  {
   "cell_type": "code",
   "execution_count": 7,
   "metadata": {},
   "outputs": [
    {
     "name": "stdout",
     "output_type": "stream",
     "text": [
      "oops\n"
     ]
    }
   ],
   "source": [
    "import gc\n",
    "\n",
    "x=0\n",
    "for folder in new_json:\n",
    "    for file in os.listdir(folder):\n",
    "        full_filename= os.path.join(folder,file)\n",
    "        with open(full_filename,'r') as fi:\n",
    "            dict1=json.load(fi)\n",
    "        x=x+1\n",
    "        if dict1[\"map\"] in MAP_IMAGES:\n",
    "            plotting(dict1)\n",
    "        else:\n",
    "            print(\"oops\")\n",
    "        if x%100 ==0:\n",
    "            gc.collect()\n"
   ]
  }
 ],
 "metadata": {
  "kernelspec": {
   "display_name": "Python 3",
   "language": "python",
   "name": "python3"
  },
  "language_info": {
   "codemirror_mode": {
    "name": "ipython",
    "version": 3
   },
   "file_extension": ".py",
   "mimetype": "text/x-python",
   "name": "python",
   "nbconvert_exporter": "python",
   "pygments_lexer": "ipython3",
   "version": "3.7.2"
  }
 },
 "nbformat": 4,
 "nbformat_minor": 2
}
